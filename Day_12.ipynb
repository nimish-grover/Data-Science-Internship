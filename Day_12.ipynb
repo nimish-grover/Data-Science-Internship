{
 "cells": [
  {
   "cell_type": "markdown",
   "metadata": {},
   "source": [
    "Chat-Bot"
   ]
  },
  {
   "cell_type": "code",
   "execution_count": 1,
   "metadata": {},
   "outputs": [],
   "source": [
    "import tkinter as tk \n",
    "from tkinter import scrolledtext\n",
    "from nltk.tokenize import word_tokenize\n",
    "from sklearn.feature_extraction.text import CountVectorizer\n",
    "from sklearn.metrics.pairwise import cosine_similarity"
   ]
  },
  {
   "cell_type": "code",
   "execution_count": 11,
   "metadata": {},
   "outputs": [],
   "source": [
    "#add individual patterns here \n",
    "patterns = [\n",
    "    \"hello\",\n",
    "    \"how are you\",\n",
    "    \"what is your name\",\n",
    "    \"bye\"\n",
    "]\n",
    "\n",
    "#add more responses here , you can use any dictionary api\n",
    "responses = [\n",
    "    \"Hello!\",\n",
    "    \"I'm doing well ,thank you \",\n",
    "    \"I'm a Chat bot\",\n",
    "    \"Good Bye!!\"\n",
    "]\n",
    "\n",
    "#create a bag of words model\n",
    "vectorizer = CountVectorizer()\n",
    "X = vectorizer.fit_transform(patterns)\n",
    "\n",
    "def get_response():\n",
    "    user_message = input_text.get(\"1.0\",\"end-1c\")\n",
    "    user_message_vector = vectorizer.transform([user_message])\n",
    "    similarities = cosine_similarity(user_message_vector,X)\n",
    "    most_similar_index = similarities.argmax()\n",
    "    if similarities[0][most_similar_index]>0:\n",
    "        response = responses[most_similar_index]\n",
    "    else:\n",
    "        response = \"I'm Sorry, I don't understand.\"\n",
    "    output_text.insert(tk.END,f\"Chat: {response}\\n\")\n",
    "    input_text.delete(\"1.0\",tk.END)\n",
    "\n",
    "#create the main window \n",
    "root = tk.Tk()\n",
    "root.title(\"NLP Basic ChatBot\")\n",
    "\n",
    "#create and place widgets \n",
    "input_text = scrolledtext.ScrolledText(root,wrap=tk.WORD,width=40,height=5)\n",
    "input_text.pack(padx=10,pady=10)\n",
    "\n",
    "send_button=tk.Button(root,text=\"Send\",command = get_response)\n",
    "send_button.pack()\n",
    "\n",
    "output_text= scrolledtext.ScrolledText(root,wrap=tk.WORD,width = 40,height =10)\n",
    "output_text.pack(padx=10,pady=10)\n",
    "\n",
    "root.mainloop()\n"
   ]
  },
  {
   "cell_type": "markdown",
   "metadata": {},
   "source": [
    "Chatbot Using TextBlob"
   ]
  },
  {
   "cell_type": "code",
   "execution_count": 17,
   "metadata": {},
   "outputs": [
    {
     "name": "stdout",
     "output_type": "stream",
     "text": [
      "Chatbot: Hello! how can i assist you? (Type 'bye' to exit)\n",
      "Chatbot: Hello! How can assist you?\n",
      "Chatbot: Goodbye! Have a great day!\n"
     ]
    }
   ],
   "source": [
    "from textblob import TextBlob\n",
    "#define some examples paterns and responses\n",
    "pattern_responses = {\n",
    "    \"hi\":\"Hello! How can assist you?\",\n",
    "    \"how are you\":\"Hello, I'm here to help!\",\n",
    "    \"bye\":\"Good Bye! Have a great day\"\n",
    "    }\n",
    "\n",
    "def chatbot_response(user_input):\n",
    "    #create a text blob object for the user input \n",
    "    blob = TextBlob(user_input.lower())\n",
    "\n",
    "    #check for patterns in the user input\n",
    "    for pattern, response in pattern_responses.items():\n",
    "        if pattern in blob.words:\n",
    "            return response \n",
    "        \n",
    "    #if no pattern matches provide a default response\n",
    "    return \"I'm sorry, I don't understand Can you rephrase?\"\n",
    "\n",
    "\n",
    "#chatbot loop \n",
    "print(\"Chatbot: Hello! how can i assist you? (Type 'bye' to exit)\")\n",
    "while True:\n",
    "    user_input = input(\"You:\")\n",
    "    if user_input=='bye':\n",
    "        print(\"Chatbot: Goodbye! Have a great day!\")\n",
    "        break \n",
    "    response = chatbot_response(user_input)\n",
    "    print(\"Chatbot:\",response)"
   ]
  },
  {
   "cell_type": "markdown",
   "metadata": {},
   "source": [
    "Sentiment analysis using nltk and textblob\n"
   ]
  },
  {
   "cell_type": "code",
   "execution_count": 18,
   "metadata": {},
   "outputs": [],
   "source": [
    "import nltk \n",
    "from nltk.tokenize import word_tokenize,sent_tokenize\n",
    "from nltk.corpus import stopwords\n",
    "from textblob import TextBlob"
   ]
  },
  {
   "cell_type": "code",
   "execution_count": 20,
   "metadata": {},
   "outputs": [
    {
     "name": "stderr",
     "output_type": "stream",
     "text": [
      "[nltk_data] Downloading package punkt to /home/nimish-\n",
      "[nltk_data]     grover/nltk_data...\n",
      "[nltk_data]   Package punkt is already up-to-date!\n",
      "[nltk_data] Downloading package averaged_perceptron_tagger to\n",
      "[nltk_data]     /home/nimish-grover/nltk_data...\n",
      "[nltk_data]   Package averaged_perceptron_tagger is already up-to-\n",
      "[nltk_data]       date!\n",
      "[nltk_data] Downloading package stopwords to /home/nimish-\n",
      "[nltk_data]     grover/nltk_data...\n",
      "[nltk_data]   Package stopwords is already up-to-date!\n"
     ]
    },
    {
     "data": {
      "text/plain": [
       "True"
      ]
     },
     "execution_count": 20,
     "metadata": {},
     "output_type": "execute_result"
    }
   ],
   "source": [
    "#download nltk data \n",
    "nltk.download('punkt')\n",
    "nltk.download('averaged_perceptron_tagger')\n",
    "nltk.download(\"stopwords\")\n"
   ]
  },
  {
   "cell_type": "code",
   "execution_count": 27,
   "metadata": {},
   "outputs": [
    {
     "name": "stdout",
     "output_type": "stream",
     "text": [
      "Original Text:\n",
      "natural language processing is a field of artificial intelligence that deals with the interaction between computers and humans using natural language.\n",
      "\n",
      "Tokenized Words: \n",
      "['natural', 'language', 'processing', 'is', 'a', 'field', 'of', 'artificial', 'intelligence', 'that', 'deals', 'with', 'the', 'interaction', 'between', 'computers', 'and', 'humans', 'using', 'natural', 'language', '.']\n",
      "\n",
      "Sentences: \n",
      "['natural language processing is a field of artificial intelligence that deals with the interaction between computers and humans using natural language.']\n",
      "\n",
      "Part of speech Tags: \n",
      "[('natural', 'JJ'), ('language', 'NN'), ('processing', 'NN'), ('is', 'VBZ'), ('a', 'DT'), ('field', 'NN'), ('of', 'IN'), ('artificial', 'JJ'), ('intelligence', 'NN'), ('that', 'IN'), ('deals', 'NNS'), ('with', 'IN'), ('the', 'DT'), ('interaction', 'NN'), ('between', 'IN'), ('computers', 'NNS'), ('and', 'CC'), ('humans', 'NNS'), ('using', 'VBG'), ('natural', 'JJ'), ('language', 'NN'), ('.', '.')]\n",
      "\n",
      "Sentiment Score: -0.13333333333333333\n",
      "\n",
      " filtered Words (without stopwords )\n",
      "[['natural', 'language', 'processing', 'is', 'a', 'field', 'of', 'artificial', 'intelligence', 'that', 'deals', 'with', 'the', 'interaction', 'between', 'computers', 'and', 'humans', 'using', 'natural', 'language', '.'], ['natural', 'language', 'processing', 'is', 'a', 'field', 'of', 'artificial', 'intelligence', 'that', 'deals', 'with', 'the', 'interaction', 'between', 'computers', 'and', 'humans', 'using', 'natural', 'language', '.'], ['natural', 'language', 'processing', 'is', 'a', 'field', 'of', 'artificial', 'intelligence', 'that', 'deals', 'with', 'the', 'interaction', 'between', 'computers', 'and', 'humans', 'using', 'natural', 'language', '.'], ['natural', 'language', 'processing', 'is', 'a', 'field', 'of', 'artificial', 'intelligence', 'that', 'deals', 'with', 'the', 'interaction', 'between', 'computers', 'and', 'humans', 'using', 'natural', 'language', '.'], ['natural', 'language', 'processing', 'is', 'a', 'field', 'of', 'artificial', 'intelligence', 'that', 'deals', 'with', 'the', 'interaction', 'between', 'computers', 'and', 'humans', 'using', 'natural', 'language', '.'], ['natural', 'language', 'processing', 'is', 'a', 'field', 'of', 'artificial', 'intelligence', 'that', 'deals', 'with', 'the', 'interaction', 'between', 'computers', 'and', 'humans', 'using', 'natural', 'language', '.'], ['natural', 'language', 'processing', 'is', 'a', 'field', 'of', 'artificial', 'intelligence', 'that', 'deals', 'with', 'the', 'interaction', 'between', 'computers', 'and', 'humans', 'using', 'natural', 'language', '.'], ['natural', 'language', 'processing', 'is', 'a', 'field', 'of', 'artificial', 'intelligence', 'that', 'deals', 'with', 'the', 'interaction', 'between', 'computers', 'and', 'humans', 'using', 'natural', 'language', '.'], ['natural', 'language', 'processing', 'is', 'a', 'field', 'of', 'artificial', 'intelligence', 'that', 'deals', 'with', 'the', 'interaction', 'between', 'computers', 'and', 'humans', 'using', 'natural', 'language', '.'], ['natural', 'language', 'processing', 'is', 'a', 'field', 'of', 'artificial', 'intelligence', 'that', 'deals', 'with', 'the', 'interaction', 'between', 'computers', 'and', 'humans', 'using', 'natural', 'language', '.'], ['natural', 'language', 'processing', 'is', 'a', 'field', 'of', 'artificial', 'intelligence', 'that', 'deals', 'with', 'the', 'interaction', 'between', 'computers', 'and', 'humans', 'using', 'natural', 'language', '.'], ['natural', 'language', 'processing', 'is', 'a', 'field', 'of', 'artificial', 'intelligence', 'that', 'deals', 'with', 'the', 'interaction', 'between', 'computers', 'and', 'humans', 'using', 'natural', 'language', '.'], ['natural', 'language', 'processing', 'is', 'a', 'field', 'of', 'artificial', 'intelligence', 'that', 'deals', 'with', 'the', 'interaction', 'between', 'computers', 'and', 'humans', 'using', 'natural', 'language', '.'], ['natural', 'language', 'processing', 'is', 'a', 'field', 'of', 'artificial', 'intelligence', 'that', 'deals', 'with', 'the', 'interaction', 'between', 'computers', 'and', 'humans', 'using', 'natural', 'language', '.']]\n"
     ]
    }
   ],
   "source": [
    "#sample text\n",
    "text = \"natural language processing is a field of artificial intelligence that deals with the interaction between computers and humans using natural language.\"\n",
    "\n",
    "#tokenize using nltk \n",
    "words = word_tokenize(text)\n",
    "sentences = sent_tokenize(text)\n",
    "\n",
    "#part of speech tagging using nltk \n",
    "pos_tags = nltk.pos_tag(words)\n",
    "\n",
    "#sentiment analysis using textblob \n",
    "blob = TextBlob(text)\n",
    "sentiment_score = blob.sentiment.polarity\n",
    "\n",
    "#display results \n",
    "print(\"Original Text:\")\n",
    "print(text)\n",
    "print(\"\\nTokenized Words: \")\n",
    "print(words)\n",
    "print(\"\\nSentences: \")\n",
    "print(sentences) \n",
    "print(\"\\nPart of speech Tags: \")\n",
    "print(pos_tags)\n",
    "print(\"\\nSentiment Score:\",sentiment_score)\n",
    "\n",
    "#filtering stop words using nltk \n",
    "stop_words =set(stopwords.words(\"english\"))\n",
    "filtered_words = [words for word in words if word.lower() not in stop_words]\n",
    "print(\"\\n filtered Words (without stopwords )\")\n",
    "print(filtered_words)"
   ]
  },
  {
   "cell_type": "markdown",
   "metadata": {},
   "source": [
    "Image recognintion using pillow library\n"
   ]
  },
  {
   "cell_type": "code",
   "execution_count": 2,
   "metadata": {},
   "outputs": [
    {
     "name": "stdout",
     "output_type": "stream",
     "text": [
      "original image format PNG\n",
      "original image size:  (1600, 741)\n",
      "Image processed and saved to: /home/nimish-grover/Documents/Internship/output1.png\n"
     ]
    }
   ],
   "source": [
    "from PIL import Image,ImageFilter \n",
    "#open an image using pillow\n",
    "image_path = \"output.png\"\n",
    "original_image = Image.open(image_path)\n",
    "\n",
    "#display some information about the image \n",
    "print(\"original image format\" ,original_image.format)\n",
    "print(\"original image size: \",original_image.size)\n",
    "\n",
    "#applying a guassian blur filter \n",
    "blurred_image = original_image.filter(ImageFilter.GaussianBlur(radius=2))\n",
    "\n",
    "#save the modified image \n",
    "output_path = \"/home/nimish-grover/Documents/Internship/output1.png\"\n",
    "blurred_image.save(output_path)\n",
    "\n",
    "#display a message \n",
    "print(\"Image processed and saved to:\",output_path)\n"
   ]
  },
  {
   "cell_type": "code",
   "execution_count": null,
   "metadata": {},
   "outputs": [],
   "source": []
  }
 ],
 "metadata": {
  "kernelspec": {
   "display_name": "base",
   "language": "python",
   "name": "python3"
  },
  "language_info": {
   "codemirror_mode": {
    "name": "ipython",
    "version": 3
   },
   "file_extension": ".py",
   "mimetype": "text/x-python",
   "name": "python",
   "nbconvert_exporter": "python",
   "pygments_lexer": "ipython3",
   "version": "3.11.3"
  },
  "orig_nbformat": 4
 },
 "nbformat": 4,
 "nbformat_minor": 2
}
