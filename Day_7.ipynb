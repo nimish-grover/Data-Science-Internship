{
 "cells": [
  {
   "cell_type": "code",
   "execution_count": 31,
   "metadata": {},
   "outputs": [],
   "source": [
    "import numpy as np \n",
    "import scipy.stats as stats"
   ]
  },
  {
   "cell_type": "code",
   "execution_count": 32,
   "metadata": {},
   "outputs": [],
   "source": [
    "#sample data \n",
    "data=[10,20,30,40,50]"
   ]
  },
  {
   "cell_type": "code",
   "execution_count": 33,
   "metadata": {},
   "outputs": [
    {
     "data": {
      "text/plain": [
       "('Mean:', 30.0)"
      ]
     },
     "execution_count": 33,
     "metadata": {},
     "output_type": "execute_result"
    }
   ],
   "source": [
    "#mean\n",
    "mean_value=np.mean(data)\n",
    "\"Mean:\",mean_value"
   ]
  },
  {
   "cell_type": "code",
   "execution_count": 34,
   "metadata": {},
   "outputs": [
    {
     "data": {
      "text/plain": [
       "('Median:', 30.0)"
      ]
     },
     "execution_count": 34,
     "metadata": {},
     "output_type": "execute_result"
    }
   ],
   "source": [
    "#meadian\n",
    "median_value=np.median(data)\n",
    "\"Median:\",median_value"
   ]
  },
  {
   "cell_type": "code",
   "execution_count": 35,
   "metadata": {},
   "outputs": [
    {
     "data": {
      "text/plain": [
       "('Standard Deviation', 14.142135623730951)"
      ]
     },
     "execution_count": 35,
     "metadata": {},
     "output_type": "execute_result"
    }
   ],
   "source": [
    "#standard deviation\n",
    "std_dev=np.std(data)\n",
    "\"Standard Deviation\",std_dev"
   ]
  },
  {
   "cell_type": "code",
   "execution_count": 36,
   "metadata": {},
   "outputs": [],
   "source": [
    "#sample data \n",
    "sample_data=[23,27,25,24,22,26,28,2,4,2,5,9,6]"
   ]
  },
  {
   "cell_type": "code",
   "execution_count": 37,
   "metadata": {},
   "outputs": [],
   "source": [
    "#hypothetical mean (assumption)\n",
    "#population_mean=np.mean(sample_data)\n",
    "population_mean=25"
   ]
  },
  {
   "cell_type": "code",
   "execution_count": 38,
   "metadata": {},
   "outputs": [
    {
     "name": "stdout",
     "output_type": "stream",
     "text": [
      "T-statistic: -3.1337040647776067\n",
      "P-Value 0.008632265455007013\n"
     ]
    }
   ],
   "source": [
    "#one-sample ttest\n",
    "t_stat,p_value=stats.ttest_1samp(sample_data,population_mean)\n",
    "print(\"T-statistic:\",t_stat)\n",
    "print(\"P-Value\",p_value)"
   ]
  },
  {
   "cell_type": "code",
   "execution_count": 39,
   "metadata": {},
   "outputs": [
    {
     "name": "stdout",
     "output_type": "stream",
     "text": [
      "The sample mean is significantly different from the population mean \n"
     ]
    }
   ],
   "source": [
    "if p_value<0.05:\n",
    "    print(\"The sample mean is significantly different from the population mean \")\n",
    "else:\n",
    "    print(\"There is no significant difference between the sample mean and popoulation mean \")"
   ]
  },
  {
   "cell_type": "markdown",
   "metadata": {},
   "source": [
    "Random sampling \n"
   ]
  },
  {
   "cell_type": "code",
   "execution_count": 83,
   "metadata": {},
   "outputs": [
    {
     "name": "stdout",
     "output_type": "stream",
     "text": [
      "<class 'list'>\n"
     ]
    },
    {
     "ename": "TypeError",
     "evalue": "'list' object is not callable",
     "output_type": "error",
     "traceback": [
      "\u001b[0;31m---------------------------------------------------------------------------\u001b[0m",
      "\u001b[0;31mTypeError\u001b[0m                                 Traceback (most recent call last)",
      "\u001b[1;32m/home/nimish-grover/Documents/Internship/Day_7.ipynb Cell 11\u001b[0m in \u001b[0;36m9\n\u001b[1;32m      <a href='vscode-notebook-cell:/home/nimish-grover/Documents/Internship/Day_7.ipynb#X20sZmlsZQ%3D%3D?line=4'>5</a>\u001b[0m sample_size\u001b[39m=\u001b[39m\u001b[39m10\u001b[39m\n\u001b[1;32m      <a href='vscode-notebook-cell:/home/nimish-grover/Documents/Internship/Day_7.ipynb#X20sZmlsZQ%3D%3D?line=5'>6</a>\u001b[0m \u001b[39mprint\u001b[39m(\u001b[39mtype\u001b[39m(population_data))\n\u001b[0;32m----> <a href='vscode-notebook-cell:/home/nimish-grover/Documents/Internship/Day_7.ipynb#X20sZmlsZQ%3D%3D?line=8'>9</a>\u001b[0m random_sample\u001b[39m=\u001b[39mrandom\u001b[39m.\u001b[39;49msample(population_data,sample_size)\n\u001b[1;32m     <a href='vscode-notebook-cell:/home/nimish-grover/Documents/Internship/Day_7.ipynb#X20sZmlsZQ%3D%3D?line=9'>10</a>\u001b[0m \u001b[39mprint\u001b[39m(\u001b[39m\"\u001b[39m\u001b[39mRandom Sample:\u001b[39m\u001b[39m\"\u001b[39m,random_sample)\n",
      "\u001b[0;31mTypeError\u001b[0m: 'list' object is not callable"
     ]
    }
   ],
   "source": [
    "import random \n",
    "#sample data \n",
    "population_datasesesese = list(range(1,101))\n",
    "#randomly select 10 samples from the population\n",
    "sample_size=10\n",
    "print(type(population_data))\n",
    "\n",
    "\n",
    "random_sample=random.sample(population_data,sample_size)\n",
    "print(\"Random Sample:\",random_sample)"
   ]
  },
  {
   "cell_type": "code",
   "execution_count": 47,
   "metadata": {},
   "outputs": [],
   "source": [
    "import matplotlib.pyplot as plt"
   ]
  },
  {
   "cell_type": "code",
   "execution_count": 54,
   "metadata": {},
   "outputs": [],
   "source": [
    "#sample data\n",
    "x=np.array([14,24,34,44,54])\n",
    "y=np.array([24,45,66,87,10])\n",
    "data="
   ]
  },
  {
   "cell_type": "code",
   "execution_count": 55,
   "metadata": {},
   "outputs": [
    {
     "name": "stdout",
     "output_type": "stream",
     "text": [
      "Correlation Coefficient: 0.07124704998790966\n"
     ]
    }
   ],
   "source": [
    "#calculate the correlation coefficient\n",
    "correlation_coefficient=np.corrcoef(x,y)[0,1]\n",
    "print(\"Correlation Coefficient:\",correlation_coefficient)"
   ]
  },
  {
   "cell_type": "markdown",
   "metadata": {},
   "source": [
    "Heat Map"
   ]
  },
  {
   "cell_type": "code",
   "execution_count": 68,
   "metadata": {},
   "outputs": [
    {
     "data": {
      "image/png": "[encoded data removed]",
      "text/plain": [
       "<Figure size 640x480 with 2 Axes>"
      ]
     },
     "metadata": {},
     "output_type": "display_data"
    }
   ],
   "source": [
    "\n",
    "data=np.array([[14,24,34,44,54],[24,45,66,87,10]])\n",
    "plt.imshow(data,cmap='hot')\n",
    "plt.colorbar()\n",
    "plt.title(\"Heatmap\")\n",
    "plt.show()"
   ]
  },
  {
   "cell_type": "code",
   "execution_count": 69,
   "metadata": {},
   "outputs": [],
   "source": [
    "#perform linear regression\n",
    "slope,intercept,r_value,p_value,std_err=stats.linregress(x,y)\n",
    "#predicted values using the regression model\n",
    "predicted_y=slope*x+intercept\n"
   ]
  },
  {
   "cell_type": "code",
   "execution_count": 70,
   "metadata": {},
   "outputs": [
    {
     "data": {
      "image/png": "[encoded data removed]",
      "text/plain": [
       "<Figure size 640x480 with 1 Axes>"
      ]
     },
     "metadata": {},
     "output_type": "display_data"
    }
   ],
   "source": [
    "#plot data and regression line \n",
    "plt.scatter(x,y,label='Data')\n",
    "plt.plot(x,predicted_y,color='red',label='Regression line')\n",
    "plt.legend()\n",
    "plt.xlabel('X')\n",
    "plt.ylabel('Y')\n",
    "plt.show()\n"
   ]
  },
  {
   "cell_type": "code",
   "execution_count": 77,
   "metadata": {},
   "outputs": [],
   "source": [
    "import pandas as pd \n",
    "#load the dataset\n",
    "dataset=pd.read_csv('patient.csv')"
   ]
  },
  {
   "cell_type": "code",
   "execution_count": 78,
   "metadata": {},
   "outputs": [
    {
     "data": {
      "text/html": [
       "<div>\n",
       "<style scoped>\n",
       "    .dataframe tbody tr th:only-of-type {\n",
       "        vertical-align: middle;\n",
       "    }\n",
       "\n",
       "    .dataframe tbody tr th {\n",
       "        vertical-align: top;\n",
       "    }\n",
       "\n",
       "    .dataframe thead th {\n",
       "        text-align: right;\n",
       "    }\n",
       "</style>\n",
       "<table border=\"1\" class=\"dataframe\">\n",
       "  <thead>\n",
       "    <tr style=\"text-align: right;\">\n",
       "      <th></th>\n",
       "      <th>Patient_ID</th>\n",
       "      <th>Age</th>\n",
       "      <th>Blood_Pressure</th>\n",
       "      <th>Cholestrol</th>\n",
       "    </tr>\n",
       "  </thead>\n",
       "  <tbody>\n",
       "    <tr>\n",
       "      <th>0</th>\n",
       "      <td>1</td>\n",
       "      <td>35</td>\n",
       "      <td>120</td>\n",
       "      <td>180</td>\n",
       "    </tr>\n",
       "    <tr>\n",
       "      <th>1</th>\n",
       "      <td>2</td>\n",
       "      <td>45</td>\n",
       "      <td>130</td>\n",
       "      <td>210</td>\n",
       "    </tr>\n",
       "    <tr>\n",
       "      <th>2</th>\n",
       "      <td>3</td>\n",
       "      <td>50</td>\n",
       "      <td>140</td>\n",
       "      <td>220</td>\n",
       "    </tr>\n",
       "    <tr>\n",
       "      <th>3</th>\n",
       "      <td>4</td>\n",
       "      <td>55</td>\n",
       "      <td>135</td>\n",
       "      <td>200</td>\n",
       "    </tr>\n",
       "    <tr>\n",
       "      <th>4</th>\n",
       "      <td>5</td>\n",
       "      <td>60</td>\n",
       "      <td>125</td>\n",
       "      <td>190</td>\n",
       "    </tr>\n",
       "  </tbody>\n",
       "</table>\n",
       "</div>"
      ],
      "text/plain": [
       "   Patient_ID  Age  Blood_Pressure  Cholestrol\n",
       "0           1   35             120         180\n",
       "1           2   45             130         210\n",
       "2           3   50             140         220\n",
       "3           4   55             135         200\n",
       "4           5   60             125         190"
      ]
     },
     "execution_count": 78,
     "metadata": {},
     "output_type": "execute_result"
    }
   ],
   "source": [
    "dataset.head()\n"
   ]
  },
  {
   "cell_type": "code",
   "execution_count": 81,
   "metadata": {},
   "outputs": [
    {
     "name": "stdout",
     "output_type": "stream",
     "text": [
      "Summary statistics        Patient_ID        Age  Blood_Pressure  Cholestrol\n",
      "count    10.00000  10.000000       10.000000   10.000000\n",
      "mean      5.50000  46.500000      130.500000  200.000000\n",
      "std       3.02765   7.947746        6.851602   11.785113\n",
      "min       1.00000  35.000000      120.000000  180.000000\n",
      "25%       3.25000  40.500000      125.000000  191.250000\n",
      "50%       5.50000  46.500000      130.000000  200.000000\n",
      "75%       7.75000  51.500000      135.000000  208.750000\n",
      "max      10.00000  60.000000      140.000000  220.000000\n"
     ]
    }
   ],
   "source": [
    "summary_stats=dataset.describe()\n",
    "print('Summary statistics', summary_stats)"
   ]
  },
  {
   "cell_type": "code",
   "execution_count": 87,
   "metadata": {},
   "outputs": [
    {
     "name": "stdout",
     "output_type": "stream",
     "text": [
      "Mean: 46.5 \n",
      "Median: 46.5 \n",
      "Standard Deviation: 7.947746011710909\n"
     ]
    }
   ],
   "source": [
    "#calculate standard deviation,mean and median of the age \n",
    "Mean_age=dataset['Age'].mean()\n",
    "Median_age=dataset['Age'].median()\n",
    "std_dev=dataset['Age'].std()\n",
    "print('Mean:',Mean_age,\n",
    "\"\\nMedian:\",Median_age,\n",
    "\"\\nStandard Deviation:\",std_dev)"
   ]
  },
  {
   "cell_type": "code",
   "execution_count": 89,
   "metadata": {},
   "outputs": [
    {
     "name": "stdout",
     "output_type": "stream",
     "text": [
      "correlation between age and cholestrol is : 0.11862596517211867\n"
     ]
    }
   ],
   "source": [
    "#calculate corelation between age and cholestrol\n",
    "correlation_age_cholestrol=dataset['Age'].corr(dataset['Cholestrol'])\n",
    "print(\"correlation between age and cholestrol is :\",correlation_age_cholestrol)"
   ]
  },
  {
   "cell_type": "code",
   "execution_count": 91,
   "metadata": {},
   "outputs": [
    {
     "data": {
      "text/html": [
       "<div>\n",
       "<style scoped>\n",
       "    .dataframe tbody tr th:only-of-type {\n",
       "        vertical-align: middle;\n",
       "    }\n",
       "\n",
       "    .dataframe tbody tr th {\n",
       "        vertical-align: top;\n",
       "    }\n",
       "\n",
       "    .dataframe thead th {\n",
       "        text-align: right;\n",
       "    }\n",
       "</style>\n",
       "<table border=\"1\" class=\"dataframe\">\n",
       "  <thead>\n",
       "    <tr style=\"text-align: right;\">\n",
       "      <th></th>\n",
       "      <th>Student_ID</th>\n",
       "      <th>Age</th>\n",
       "      <th>Gender</th>\n",
       "      <th>Math_Score</th>\n",
       "      <th>Science_score</th>\n",
       "      <th>English_score</th>\n",
       "    </tr>\n",
       "  </thead>\n",
       "  <tbody>\n",
       "    <tr>\n",
       "      <th>0</th>\n",
       "      <td>1</td>\n",
       "      <td>15</td>\n",
       "      <td>Male</td>\n",
       "      <td>85</td>\n",
       "      <td>92</td>\n",
       "      <td>78</td>\n",
       "    </tr>\n",
       "    <tr>\n",
       "      <th>1</th>\n",
       "      <td>2</td>\n",
       "      <td>16</td>\n",
       "      <td>Female</td>\n",
       "      <td>78</td>\n",
       "      <td>88</td>\n",
       "      <td>85</td>\n",
       "    </tr>\n",
       "    <tr>\n",
       "      <th>2</th>\n",
       "      <td>3</td>\n",
       "      <td>17</td>\n",
       "      <td>Male</td>\n",
       "      <td>90</td>\n",
       "      <td>82</td>\n",
       "      <td>84</td>\n",
       "    </tr>\n",
       "    <tr>\n",
       "      <th>3</th>\n",
       "      <td>4</td>\n",
       "      <td>18</td>\n",
       "      <td>Female</td>\n",
       "      <td>52</td>\n",
       "      <td>66</td>\n",
       "      <td>65</td>\n",
       "    </tr>\n",
       "    <tr>\n",
       "      <th>4</th>\n",
       "      <td>5</td>\n",
       "      <td>15</td>\n",
       "      <td>Male</td>\n",
       "      <td>63</td>\n",
       "      <td>46</td>\n",
       "      <td>89</td>\n",
       "    </tr>\n",
       "  </tbody>\n",
       "</table>\n",
       "</div>"
      ],
      "text/plain": [
       "   Student_ID  Age  Gender  Math_Score  Science_score  English_score\n",
       "0           1   15    Male          85             92             78\n",
       "1           2   16  Female          78             88             85\n",
       "2           3   17    Male          90             82             84\n",
       "3           4   18  Female          52             66             65\n",
       "4           5   15    Male          63             46             89"
      ]
     },
     "execution_count": 91,
     "metadata": {},
     "output_type": "execute_result"
    }
   ],
   "source": [
    "data=pd.read_csv(\"student.csv\")\n",
    "data.head()"
   ]
  },
  {
   "cell_type": "code",
   "execution_count": null,
   "metadata": {},
   "outputs": [],
   "source": []
  }
 ],
 "metadata": {
  "kernelspec": {
   "display_name": "Python 3",
   "language": "python",
   "name": "python3"
  },
  "language_info": {
   "codemirror_mode": {
    "name": "ipython",
    "version": 3
   },
   "file_extension": ".py",
   "mimetype": "text/x-python",
   "name": "python",
   "nbconvert_exporter": "python",
   "pygments_lexer": "ipython3",
   "version": "3.11.2"
  },
  "orig_nbformat": 4
 },
 "nbformat": 4,
 "nbformat_minor": 2
}
