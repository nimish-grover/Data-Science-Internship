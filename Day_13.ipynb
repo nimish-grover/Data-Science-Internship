{
 "cells": [
  {
   "cell_type": "code",
   "execution_count": null,
   "id": "94640c54",
   "metadata": {},
   "outputs": [],
   "source": [
    "import numpy as np\n",
    "import cv2"
   ]
  },
  {
   "cell_type": "code",
   "execution_count": null,
   "id": "9ec41ad7",
   "metadata": {},
   "outputs": [],
   "source": [
    "#create a blank image with a white background\n",
    "width, height = 800, 600\n",
    "blank_image = np.ones((height, width, 3), np.uint8)*255\n",
    "\n",
    "#Draw a blue line\n",
    "cv2.line(blank_image,(100, 100),(400, 500), (255,0,0),5)\n",
    "\n",
    "#Draw a green rectangle\n",
    "cv2.rectangle(blank_image, (200, 200), (600, 400), (0,255,0), 3)\n",
    "\n",
    "#Draw a red circle\n",
    "cv2.circle(blank_image, (400,300),100,(0,0,255),-1) #-1 for filled circle\n",
    "\n",
    "#Put text on the image \n",
    "font = cv2.FONT_HERSHEY_SIMPLEX\n",
    "cv2.putText(blank_image,'OpenCV Image Generation',(50,50), font,1,(0,0,0),2)\n",
    "\n",
    "#Display the generated image\n",
    "cv2.imshow('Generated Image', blank_image)\n",
    "cv2.waitKey(0)\n",
    "cv2.destroyAllWindows()"
   ]
  },
  {
   "cell_type": "code",
   "execution_count": null,
   "id": "f22dad95",
   "metadata": {},
   "outputs": [],
   "source": [
    "import cv2\n",
    "import numpy as np\n",
    "import os\n",
    "from sklearn.model_selection import train_test_split\n",
    "from sklearn.svm import SVC\n",
    "from sklearn.metrics import accuracy_score"
   ]
  },
  {
   "cell_type": "code",
   "execution_count": null,
   "id": "0e53fd6f",
   "metadata": {},
   "outputs": [],
   "source": [
    "#Load and preprocess image data\n",
    "image_paths = ['D:/Projects/Aquarium/train/images']\n",
    "class_labels = [0,1]\n",
    "images = []\n",
    "labels = []\n",
    "\n",
    "for i, path in enumerate(image_paths):\n",
    "    for filename in os.listdir(path):\n",
    "        img = cv2.imread(os.path.join(path, filename))\n",
    "        img = cv2.cvtColor(img, cv2.COLOR_BGR2GRAY)\n",
    "        img = cv2.resize(img, (100,100)) #Resize for consistent input size \n",
    "        images.append(img)\n",
    "        labels.append(class_labels[i])\n",
    "        \n",
    "#Convert to NumPy arrays\n",
    "images = np.array(images)\n",
    "labels = np.array(labels)\n",
    "\n",
    "# Split the dataset into training and testing sets\n",
    "X_train, X_test, y_train, y_test = train_test_split(images, labels, test_size=0.2, random_state=42)\n",
    "\n",
    "#Feature extraction using Histogram of Oriented Gradients (HOG)\n",
    "def extract_hog_features(images):\n",
    "    hog_features = []\n",
    "    for img in images:\n",
    "        hog_feature = cv2.HOGDescriptor((100,100),(16,16),(8,8),(8,8),9)\n",
    "        hog_features.append(hog_feature.compute(img).flatten())\n",
    "    return np.array(hog_features)\n",
    "\n",
    "X_train_hog = extract_hog_features(X_train)\n",
    "X_test_hog = extract_hog_features(X_test)\n",
    "\n",
    "#Train a classifier (SVM in this case)\n",
    "clf = SVC(kernel='linear')\n",
    "clf.fit(X_train_hog,y_train)\n",
    "\n",
    "#Make predictions\n",
    "y_pred = clf.predict(X_test_hog)\n",
    "\n",
    "#calculate accuracy\n",
    "accuracy = accuracy_score(y_test,y_pred)\n",
    "print(f\"Accuracy: {accuracy}\")"
   ]
  }
 ],
 "metadata": {
  "kernelspec": {
   "display_name": "Python 3 (ipykernel)",
   "language": "python",
   "name": "python3"
  },
  "language_info": {
   "codemirror_mode": {
    "name": "ipython",
    "version": 3
   },
   "file_extension": ".py",
   "mimetype": "text/x-python",
   "name": "python",
   "nbconvert_exporter": "python",
   "pygments_lexer": "ipython3",
   "version": "3.11.3"
  }
 },
 "nbformat": 4,
 "nbformat_minor": 5
}
